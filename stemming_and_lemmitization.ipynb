{
 "cells": [
  {
   "cell_type": "code",
   "execution_count": 1,
   "metadata": {},
   "outputs": [],
   "source": [
    "paragraph = \"\"\"\n",
    "Narendra Damodardas Modi (Gujarati: [ˈnəɾendɾə dɑmodəɾˈdɑs ˈmodiː] ⓘ; born 17 September 1950)[b] is an Indian politician who has served as the 14th prime minister of India since May 2014. Modi was the chief minister of Gujarat from 2001 to 2014 and is the Member of Parliament (MP) for Varanasi. He is a member of the Bharatiya Janata Party (BJP) and of the Rashtriya Swayamsevak Sangh (RSS), a right wing Hindu nationalist paramilitary volunteer organisation. He is the longest-serving prime minister from outside the Indian National Congress.\n",
    "\n",
    "Modi was born and raised in Vadnagar in northeastern Gujarat, where he completed his secondary education. He was introduced to the RSS at the age of eight. His account of helping his father sell tea at the Vadnagar railway station has not been reliably corroborated. At age 18, he was married to Jashodaben Modi, whom he abandoned soon after, only publicly acknowledging her four decades later when legally required to do so. Modi became a full-time worker for the RSS in Gujarat in 1971. The RSS assigned him to the BJP in 1985 and he held several positions within the party hierarchy until 2001, rising to the rank of general secretary.[c]\n",
    "\"\"\""
   ]
  },
  {
   "cell_type": "code",
   "execution_count": 2,
   "metadata": {},
   "outputs": [
    {
     "data": {
      "text/plain": [
       "'\\nNarendra Damodardas Modi (Gujarati: [ˈnəɾendɾə dɑmodəɾˈdɑs ˈmodiː] ⓘ; born 17 September 1950)[b] is an Indian politician who has served as the 14th prime minister of India since May 2014. Modi was the chief minister of Gujarat from 2001 to 2014 and is the Member of Parliament (MP) for Varanasi. He is a member of the Bharatiya Janata Party (BJP) and of the Rashtriya Swayamsevak Sangh (RSS), a right wing Hindu nationalist paramilitary volunteer organisation. He is the longest-serving prime minister from outside the Indian National Congress.\\n\\nModi was born and raised in Vadnagar in northeastern Gujarat, where he completed his secondary education. He was introduced to the RSS at the age of eight. His account of helping his father sell tea at the Vadnagar railway station has not been reliably corroborated. At age 18, he was married to Jashodaben Modi, whom he abandoned soon after, only publicly acknowledging her four decades later when legally required to do so. Modi became a full-time worker for the RSS in Gujarat in 1971. The RSS assigned him to the BJP in 1985 and he held several positions within the party hierarchy until 2001, rising to the rank of general secretary.[c]\\n'"
      ]
     },
     "execution_count": 2,
     "metadata": {},
     "output_type": "execute_result"
    }
   ],
   "source": [
    "paragraph"
   ]
  },
  {
   "cell_type": "code",
   "execution_count": 3,
   "metadata": {},
   "outputs": [],
   "source": [
    "import nltk\n",
    "from nltk.stem import PorterStemmer\n",
    "from nltk.corpus import stopwords"
   ]
  },
  {
   "cell_type": "code",
   "execution_count": 4,
   "metadata": {},
   "outputs": [
    {
     "name": "stderr",
     "output_type": "stream",
     "text": [
      "[nltk_data] Downloading package punkt to /home/swapnil/nltk_data...\n",
      "[nltk_data]   Unzipping tokenizers/punkt.zip.\n"
     ]
    }
   ],
   "source": [
    "## tokenizetion-- converts paragraph-sentense-wods\n",
    "\n",
    "nltk.download(\"punkt\")\n",
    "\n",
    "sentenses = nltk.sent_tokenize(paragraph)"
   ]
  },
  {
   "cell_type": "code",
   "execution_count": 5,
   "metadata": {},
   "outputs": [
    {
     "data": {
      "text/plain": [
       "['\\nNarendra Damodardas Modi (Gujarati: [ˈnəɾendɾə dɑmodəɾˈdɑs ˈmodiː] ⓘ; born 17 September 1950)[b] is an Indian politician who has served as the 14th prime minister of India since May 2014.',\n",
       " 'Modi was the chief minister of Gujarat from 2001 to 2014 and is the Member of Parliament (MP) for Varanasi.',\n",
       " 'He is a member of the Bharatiya Janata Party (BJP) and of the Rashtriya Swayamsevak Sangh (RSS), a right wing Hindu nationalist paramilitary volunteer organisation.',\n",
       " 'He is the longest-serving prime minister from outside the Indian National Congress.',\n",
       " 'Modi was born and raised in Vadnagar in northeastern Gujarat, where he completed his secondary education.',\n",
       " 'He was introduced to the RSS at the age of eight.',\n",
       " 'His account of helping his father sell tea at the Vadnagar railway station has not been reliably corroborated.',\n",
       " 'At age 18, he was married to Jashodaben Modi, whom he abandoned soon after, only publicly acknowledging her four decades later when legally required to do so.',\n",
       " 'Modi became a full-time worker for the RSS in Gujarat in 1971.',\n",
       " 'The RSS assigned him to the BJP in 1985 and he held several positions within the party hierarchy until 2001, rising to the rank of general secretary.',\n",
       " '[c]']"
      ]
     },
     "execution_count": 5,
     "metadata": {},
     "output_type": "execute_result"
    }
   ],
   "source": [
    "sentenses"
   ]
  },
  {
   "cell_type": "code",
   "execution_count": 6,
   "metadata": {},
   "outputs": [],
   "source": [
    "# stemming=> find the base root word\n",
    "\n",
    "stemmer = PorterStemmer()"
   ]
  },
  {
   "cell_type": "code",
   "execution_count": 7,
   "metadata": {},
   "outputs": [
    {
     "data": {
      "text/plain": [
       "'go'"
      ]
     },
     "execution_count": 7,
     "metadata": {},
     "output_type": "execute_result"
    }
   ],
   "source": [
    "stemmer.stem(\"going\")"
   ]
  },
  {
   "cell_type": "code",
   "execution_count": 8,
   "metadata": {},
   "outputs": [
    {
     "data": {
      "text/plain": [
       "'final'"
      ]
     },
     "execution_count": 8,
     "metadata": {},
     "output_type": "execute_result"
    }
   ],
   "source": [
    "stemmer.stem(\"finally\")"
   ]
  },
  {
   "cell_type": "markdown",
   "metadata": {},
   "source": [
    "<h4>Lemmatization is the process of grouping together the different inflected forms of a word so they can be analyzed as a single item. Lemmatization is similar to stemming but it brings context to the words. So it links words with similar meanings to one word.</h4>"
   ]
  },
  {
   "cell_type": "code",
   "execution_count": 9,
   "metadata": {},
   "outputs": [],
   "source": [
    "from nltk.stem import WordNetLemmatizer"
   ]
  },
  {
   "cell_type": "code",
   "execution_count": 12,
   "metadata": {},
   "outputs": [
    {
     "name": "stderr",
     "output_type": "stream",
     "text": [
      "[nltk_data] Downloading package wordnet to /home/swapnil/nltk_data...\n"
     ]
    },
    {
     "data": {
      "text/plain": [
       "True"
      ]
     },
     "execution_count": 12,
     "metadata": {},
     "output_type": "execute_result"
    }
   ],
   "source": [
    "nltk.download(\"wordnet\")"
   ]
  },
  {
   "cell_type": "code",
   "execution_count": 10,
   "metadata": {},
   "outputs": [],
   "source": [
    "lemmatizer = WordNetLemmatizer()"
   ]
  },
  {
   "cell_type": "code",
   "execution_count": 13,
   "metadata": {},
   "outputs": [
    {
     "data": {
      "text/plain": [
       "'history'"
      ]
     },
     "execution_count": 13,
     "metadata": {},
     "output_type": "execute_result"
    }
   ],
   "source": [
    "lemmatizer.lemmatize(\"history\")"
   ]
  },
  {
   "cell_type": "code",
   "execution_count": 14,
   "metadata": {},
   "outputs": [
    {
     "data": {
      "text/plain": [
       "'finally'"
      ]
     },
     "execution_count": 14,
     "metadata": {},
     "output_type": "execute_result"
    }
   ],
   "source": [
    "lemmatizer.lemmatize(\"finally\")"
   ]
  },
  {
   "cell_type": "code",
   "execution_count": 17,
   "metadata": {},
   "outputs": [],
   "source": [
    "import re\n",
    "\n",
    "corpus = list()\n",
    "for i in range(len(sentenses)):\n",
    "    review = re.sub(\"[^a-zA-Z]\", \" \", sentenses[i])\n",
    "    review = review.lower()\n",
    "    corpus.append(review)"
   ]
  },
  {
   "cell_type": "code",
   "execution_count": 18,
   "metadata": {},
   "outputs": [
    {
     "data": {
      "text/plain": [
       "[' narendra damodardas modi  gujarati    n  end   d mod   d s  modi      born    september       b  is an indian politician who has served as the   th prime minister of india since may      ',\n",
       " 'modi was the chief minister of gujarat from      to      and is the member of parliament  mp  for varanasi ',\n",
       " 'he is a member of the bharatiya janata party  bjp  and of the rashtriya swayamsevak sangh  rss   a right wing hindu nationalist paramilitary volunteer organisation ',\n",
       " 'he is the longest serving prime minister from outside the indian national congress ',\n",
       " 'modi was born and raised in vadnagar in northeastern gujarat  where he completed his secondary education ',\n",
       " 'he was introduced to the rss at the age of eight ',\n",
       " 'his account of helping his father sell tea at the vadnagar railway station has not been reliably corroborated ',\n",
       " 'at age     he was married to jashodaben modi  whom he abandoned soon after  only publicly acknowledging her four decades later when legally required to do so ',\n",
       " 'modi became a full time worker for the rss in gujarat in      ',\n",
       " 'the rss assigned him to the bjp in      and he held several positions within the party hierarchy until       rising to the rank of general secretary ',\n",
       " ' c ']"
      ]
     },
     "execution_count": 18,
     "metadata": {},
     "output_type": "execute_result"
    }
   ],
   "source": [
    "corpus"
   ]
  },
  {
   "cell_type": "code",
   "execution_count": 20,
   "metadata": {},
   "outputs": [
    {
     "name": "stderr",
     "output_type": "stream",
     "text": [
      "[nltk_data] Downloading package stopwords to\n",
      "[nltk_data]     /home/swapnil/nltk_data...\n",
      "[nltk_data]   Unzipping corpora/stopwords.zip.\n"
     ]
    },
    {
     "data": {
      "text/plain": [
       "True"
      ]
     },
     "execution_count": 20,
     "metadata": {},
     "output_type": "execute_result"
    }
   ],
   "source": [
    "nltk.download(\"stopwords\")"
   ]
  },
  {
   "cell_type": "code",
   "execution_count": 21,
   "metadata": {},
   "outputs": [
    {
     "name": "stdout",
     "output_type": "stream",
     "text": [
      "narendra\n",
      "damodarda\n",
      "modi\n",
      "gujarati\n",
      "n\n",
      "end\n",
      "mod\n",
      "modi\n",
      "born\n",
      "septemb\n",
      "b\n",
      "indian\n",
      "politician\n",
      "serv\n",
      "th\n",
      "prime\n",
      "minist\n",
      "india\n",
      "sinc\n",
      "may\n",
      "modi\n",
      "chief\n",
      "minist\n",
      "gujarat\n",
      "member\n",
      "parliament\n",
      "mp\n",
      "varanasi\n",
      "member\n",
      "bharatiya\n",
      "janata\n",
      "parti\n",
      "bjp\n",
      "rashtriya\n",
      "swayamsevak\n",
      "sangh\n",
      "rss\n",
      "right\n",
      "wing\n",
      "hindu\n",
      "nationalist\n",
      "paramilitari\n",
      "volunt\n",
      "organis\n",
      "longest\n",
      "serv\n",
      "prime\n",
      "minist\n",
      "outsid\n",
      "indian\n",
      "nation\n",
      "congress\n",
      "modi\n",
      "born\n",
      "rais\n",
      "vadnagar\n",
      "northeastern\n",
      "gujarat\n",
      "complet\n",
      "secondari\n",
      "educ\n",
      "introduc\n",
      "rss\n",
      "age\n",
      "eight\n",
      "account\n",
      "help\n",
      "father\n",
      "sell\n",
      "tea\n",
      "vadnagar\n",
      "railway\n",
      "station\n",
      "reliabl\n",
      "corrobor\n",
      "age\n",
      "marri\n",
      "jashodaben\n",
      "modi\n",
      "abandon\n",
      "soon\n",
      "publicli\n",
      "acknowledg\n",
      "four\n",
      "decad\n",
      "later\n",
      "legal\n",
      "requir\n",
      "modi\n",
      "becam\n",
      "full\n",
      "time\n",
      "worker\n",
      "rss\n",
      "gujarat\n",
      "rss\n",
      "assign\n",
      "bjp\n",
      "held\n",
      "sever\n",
      "posit\n",
      "within\n",
      "parti\n",
      "hierarchi\n",
      "rise\n",
      "rank\n",
      "gener\n",
      "secretari\n",
      "c\n"
     ]
    }
   ],
   "source": [
    "## stemming\n",
    "for i in corpus:\n",
    "    words = nltk.wordpunct_tokenize(i)\n",
    "    for word in words:\n",
    "        if word not in set(stopwords.words(\"english\")):\n",
    "            print(stemmer.stem(word))"
   ]
  },
  {
   "cell_type": "code",
   "execution_count": 23,
   "metadata": {},
   "outputs": [
    {
     "name": "stdout",
     "output_type": "stream",
     "text": [
      "narendra\n",
      "damodardas\n",
      "modi\n",
      "gujarati\n",
      "n\n",
      "end\n",
      "mod\n",
      "modi\n",
      "born\n",
      "september\n",
      "b\n",
      "indian\n",
      "politician\n",
      "served\n",
      "th\n",
      "prime\n",
      "minister\n",
      "india\n",
      "since\n",
      "may\n",
      "modi\n",
      "chief\n",
      "minister\n",
      "gujarat\n",
      "member\n",
      "parliament\n",
      "mp\n",
      "varanasi\n",
      "member\n",
      "bharatiya\n",
      "janata\n",
      "party\n",
      "bjp\n",
      "rashtriya\n",
      "swayamsevak\n",
      "sangh\n",
      "r\n",
      "right\n",
      "wing\n",
      "hindu\n",
      "nationalist\n",
      "paramilitary\n",
      "volunteer\n",
      "organisation\n",
      "longest\n",
      "serving\n",
      "prime\n",
      "minister\n",
      "outside\n",
      "indian\n",
      "national\n",
      "congress\n",
      "modi\n",
      "born\n",
      "raised\n",
      "vadnagar\n",
      "northeastern\n",
      "gujarat\n",
      "completed\n",
      "secondary\n",
      "education\n",
      "introduced\n",
      "r\n",
      "age\n",
      "eight\n",
      "account\n",
      "helping\n",
      "father\n",
      "sell\n",
      "tea\n",
      "vadnagar\n",
      "railway\n",
      "station\n",
      "reliably\n",
      "corroborated\n",
      "age\n",
      "married\n",
      "jashodaben\n",
      "modi\n",
      "abandoned\n",
      "soon\n",
      "publicly\n",
      "acknowledging\n",
      "four\n",
      "decade\n",
      "later\n",
      "legally\n",
      "required\n",
      "modi\n",
      "became\n",
      "full\n",
      "time\n",
      "worker\n",
      "r\n",
      "gujarat\n",
      "r\n",
      "assigned\n",
      "bjp\n",
      "held\n",
      "several\n",
      "position\n",
      "within\n",
      "party\n",
      "hierarchy\n",
      "rising\n",
      "rank\n",
      "general\n",
      "secretary\n",
      "c\n"
     ]
    }
   ],
   "source": [
    "## lemmatization\n",
    "for i in corpus:\n",
    "    words = nltk.wordpunct_tokenize(i)\n",
    "    for word in words:\n",
    "        if word not in set(stopwords.words(\"english\")):\n",
    "            print(lemmatizer.lemmatize(word))"
   ]
  },
  {
   "cell_type": "code",
   "execution_count": 37,
   "metadata": {},
   "outputs": [],
   "source": [
    "## Apply stopwords, Lemmitize\n",
    "\n",
    "import re\n",
    "\n",
    "corpus = []\n",
    "for i in range(len(sentenses)):\n",
    "    review = re.sub(\"[^a-zA-Z]\", \" \", sentenses[i])\n",
    "    review = review.lower()\n",
    "    review = review.split()\n",
    "    review = [\n",
    "        lemmatizer.lemmatize(word)\n",
    "        for word in review\n",
    "        if not word in set(stopwords.words(\"english\"))\n",
    "    ]\n",
    "    review = \" \".join(review)\n",
    "    corpus.append(review)"
   ]
  },
  {
   "cell_type": "code",
   "execution_count": 38,
   "metadata": {},
   "outputs": [],
   "source": [
    "from sklearn.feature_extraction.text import CountVectorizer"
   ]
  },
  {
   "cell_type": "code",
   "execution_count": 39,
   "metadata": {},
   "outputs": [],
   "source": [
    "cv = CountVectorizer()"
   ]
  },
  {
   "cell_type": "code",
   "execution_count": 40,
   "metadata": {},
   "outputs": [
    {
     "data": {
      "text/plain": [
       "<11x85 sparse matrix of type '<class 'numpy.int64'>'\n",
       "\twith 101 stored elements in Compressed Sparse Row format>"
      ]
     },
     "execution_count": 40,
     "metadata": {},
     "output_type": "execute_result"
    }
   ],
   "source": [
    "X = cv.fit_transform(corpus)\n",
    "X"
   ]
  },
  {
   "cell_type": "code",
   "execution_count": 41,
   "metadata": {},
   "outputs": [
    {
     "data": {
      "text/plain": [
       "{'narendra': 43,\n",
       " 'damodardas': 13,\n",
       " 'modi': 41,\n",
       " 'gujarati': 23,\n",
       " 'end': 17,\n",
       " 'mod': 40,\n",
       " 'born': 8,\n",
       " 'september': 68,\n",
       " 'indian': 29,\n",
       " 'politician': 52,\n",
       " 'served': 69,\n",
       " 'th': 77,\n",
       " 'prime': 54,\n",
       " 'minister': 39,\n",
       " 'india': 28,\n",
       " 'since': 72,\n",
       " 'may': 37,\n",
       " 'chief': 9,\n",
       " 'gujarat': 22,\n",
       " 'member': 38,\n",
       " 'parliament': 50,\n",
       " 'mp': 42,\n",
       " 'varanasi': 80,\n",
       " 'bharatiya': 6,\n",
       " 'janata': 31,\n",
       " 'party': 51,\n",
       " 'bjp': 7,\n",
       " 'rashtriya': 59,\n",
       " 'swayamsevak': 75,\n",
       " 'sangh': 64,\n",
       " 'right': 62,\n",
       " 'wing': 82,\n",
       " 'hindu': 27,\n",
       " 'nationalist': 45,\n",
       " 'paramilitary': 49,\n",
       " 'volunteer': 81,\n",
       " 'organisation': 47,\n",
       " 'longest': 35,\n",
       " 'serving': 70,\n",
       " 'outside': 48,\n",
       " 'national': 44,\n",
       " 'congress': 11,\n",
       " 'raised': 57,\n",
       " 'vadnagar': 79,\n",
       " 'northeastern': 46,\n",
       " 'completed': 10,\n",
       " 'secondary': 65,\n",
       " 'education': 15,\n",
       " 'introduced': 30,\n",
       " 'age': 3,\n",
       " 'eight': 16,\n",
       " 'account': 1,\n",
       " 'helping': 25,\n",
       " 'father': 18,\n",
       " 'sell': 67,\n",
       " 'tea': 76,\n",
       " 'railway': 56,\n",
       " 'station': 74,\n",
       " 'reliably': 60,\n",
       " 'corroborated': 12,\n",
       " 'married': 36,\n",
       " 'jashodaben': 32,\n",
       " 'abandoned': 0,\n",
       " 'soon': 73,\n",
       " 'publicly': 55,\n",
       " 'acknowledging': 2,\n",
       " 'four': 19,\n",
       " 'decade': 14,\n",
       " 'later': 33,\n",
       " 'legally': 34,\n",
       " 'required': 61,\n",
       " 'became': 5,\n",
       " 'full': 20,\n",
       " 'time': 78,\n",
       " 'worker': 84,\n",
       " 'assigned': 4,\n",
       " 'held': 24,\n",
       " 'several': 71,\n",
       " 'position': 53,\n",
       " 'within': 83,\n",
       " 'hierarchy': 26,\n",
       " 'rising': 63,\n",
       " 'rank': 58,\n",
       " 'general': 21,\n",
       " 'secretary': 66}"
      ]
     },
     "execution_count": 41,
     "metadata": {},
     "output_type": "execute_result"
    }
   ],
   "source": [
    "cv.vocabulary_"
   ]
  },
  {
   "cell_type": "code",
   "execution_count": 42,
   "metadata": {},
   "outputs": [
    {
     "data": {
      "text/plain": [
       "'narendra damodardas modi gujarati n end mod modi born september b indian politician served th prime minister india since may'"
      ]
     },
     "execution_count": 42,
     "metadata": {},
     "output_type": "execute_result"
    }
   ],
   "source": [
    "corpus[0]"
   ]
  },
  {
   "cell_type": "code",
   "execution_count": 43,
   "metadata": {},
   "outputs": [
    {
     "data": {
      "text/plain": [
       "array([[0, 0, 0, 0, 0, 0, 0, 0, 1, 0, 0, 0, 0, 1, 0, 0, 0, 1, 0, 0, 0, 0,\n",
       "        0, 1, 0, 0, 0, 0, 1, 1, 0, 0, 0, 0, 0, 0, 0, 1, 0, 1, 1, 2, 0, 1,\n",
       "        0, 0, 0, 0, 0, 0, 0, 0, 1, 0, 1, 0, 0, 0, 0, 0, 0, 0, 0, 0, 0, 0,\n",
       "        0, 0, 1, 1, 0, 0, 1, 0, 0, 0, 0, 1, 0, 0, 0, 0, 0, 0, 0]])"
      ]
     },
     "execution_count": 43,
     "metadata": {},
     "output_type": "execute_result"
    }
   ],
   "source": [
    "X[0].toarray()"
   ]
  },
  {
   "cell_type": "code",
   "execution_count": null,
   "metadata": {},
   "outputs": [],
   "source": []
  }
 ],
 "metadata": {
  "kernelspec": {
   "display_name": "Python 3",
   "language": "python",
   "name": "python3"
  },
  "language_info": {
   "codemirror_mode": {
    "name": "ipython",
    "version": 3
   },
   "file_extension": ".py",
   "mimetype": "text/x-python",
   "name": "python",
   "nbconvert_exporter": "python",
   "pygments_lexer": "ipython3",
   "version": "3.10.13"
  }
 },
 "nbformat": 4,
 "nbformat_minor": 2
}
